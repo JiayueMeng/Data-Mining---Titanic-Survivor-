{
 "cells": [
  {
   "cell_type": "code",
   "execution_count": 106,
   "id": "ab52a2a1",
   "metadata": {
    "scrolled": true
   },
   "outputs": [
    {
     "name": "stdout",
     "output_type": "stream",
     "text": [
      "177\n",
      "0.19865319865319866\n"
     ]
    }
   ],
   "source": [
    "#Q1\n",
    "#Import the dataset by using the read_excel( ) function of Pandas\n",
    "import pandas as pd\n",
    "titanic_df = pd.read_excel(r\"C:\\Users\\Joyce\\Desktop\\CSC 240\\Lab1\\titanic_data.xlsx\")\n",
    "\n",
    "\n",
    "#Culculate missing value\n",
    "missing_age = titanic_df[titanic_df[\"Age\"].isnull()]\n",
    "print(len(missing_age))\n",
    "#There are 177 missing values.\n",
    "\n",
    "#Culculate missing value percentage\n",
    "missing_age_percentage = len(missing_age)/len(titanic_df)\n",
    "print(missing_age_percentage)\n",
    "#The missing value percentage is 0.19865319865319866\n",
    "\n",
    "#Drop missing value\n",
    "titanic_df = titanic_df.dropna(axis=0, subset=['Age'])\n"
   ]
  },
  {
   "cell_type": "code",
   "execution_count": 107,
   "id": "f9049fc3",
   "metadata": {},
   "outputs": [],
   "source": [
    "#Q2\n",
    "import numpy as np\n",
    "titanic_df[\"NotAlone\"] = np.where((titanic_df[\"SibSp\"] == 0) & (titanic_df[\"Parch\"] == 0), 0, 1)"
   ]
  },
  {
   "cell_type": "code",
   "execution_count": 108,
   "id": "094ed8b4",
   "metadata": {},
   "outputs": [
    {
     "name": "stdout",
     "output_type": "stream",
     "text": [
      "186 173 355\n",
      "38.233440860215055 29.87763005780347 25.14061971830986\n",
      "37.0 29.0 24.0\n",
      "87.96158225806447 21.47155606936416 13.229435211267623\n",
      "69.3 15.0458 8.05\n"
     ]
    }
   ],
   "source": [
    "#Q3\n",
    "titanic_df_passenger_class_1 = titanic_df.loc[titanic_df['Pclass'] == 1]\n",
    "titanic_df_passenger_class_2 = titanic_df.loc[titanic_df['Pclass'] == 2]\n",
    "titanic_df_passenger_class_3 = titanic_df.loc[titanic_df['Pclass'] == 3]\n",
    "print(len(titanic_df_passenger_class_1),len(titanic_df_passenger_class_2),len(titanic_df_passenger_class_3))\n",
    "\n",
    "#In class 1, there are 186 observations. In class 2, there are 173 observations. In class 3, there are 355 observations. Class 3 is the biggest passenger class.\n",
    "\n",
    "#Culculate mean and median for Age\n",
    "print(titanic_df_passenger_class_1[\"Age\"].mean(),titanic_df_passenger_class_2[\"Age\"].mean(),titanic_df_passenger_class_3[\"Age\"].mean())\n",
    "print(titanic_df_passenger_class_1[\"Age\"].median(),titanic_df_passenger_class_2[\"Age\"].median(),titanic_df_passenger_class_3[\"Age\"].median())\n",
    "#Culculate mean and median for Fare\n",
    "print(titanic_df_passenger_class_1[\"Fare\"].mean(),titanic_df_passenger_class_2[\"Fare\"].mean(),titanic_df_passenger_class_3[\"Fare\"].mean())\n",
    "print(titanic_df_passenger_class_1[\"Fare\"].median(),titanic_df_passenger_class_2[\"Fare\"].median(),titanic_df_passenger_class_3[\"Fare\"].median())\n",
    "\n",
    "#For Age, class 1 has the highest mean, and class 3 has the lowest mean; class 1 has the highest median, and class 3 has the lowest median. \n",
    "#For Fare, class 1 has the highest mean, and class 3 has the lowest mean, class 1 has the highest median, and class 3 has the lowest median."
   ]
  },
  {
   "cell_type": "code",
   "execution_count": 109,
   "id": "a2343729",
   "metadata": {},
   "outputs": [
    {
     "name": "stdout",
     "output_type": "stream",
     "text": [
      "290 424\n",
      "122 83 85\n",
      "64 90 270\n"
     ]
    }
   ],
   "source": [
    "#Q4\n",
    "\n",
    "#Create two different datasets using the Survived feature\n",
    "titanic_df_survived = titanic_df.loc[titanic_df[\"Survived\"]==1]\n",
    "titanic_df_not_survived = titanic_df.loc[titanic_df[\"Survived\"]==0]\n",
    "\n",
    "#Find the number of observations in each dataset\n",
    "print(len(titanic_df_survived),len(titanic_df_not_survived))\n",
    "#290 people survived and 424 people did not survive.\n",
    "\n",
    "#print the number of people survived in each class\n",
    "print(len(titanic_df_passenger_class_1[titanic_df_passenger_class_1[\"Survived\"]==1]), \n",
    "      len(titanic_df_passenger_class_2[titanic_df_passenger_class_2[\"Survived\"]==1]),\n",
    "      len(titanic_df_passenger_class_3[titanic_df_passenger_class_3[\"Survived\"]==1])\n",
    "     )\n",
    "#122 people survived in class 1. 83 people survived in class 2. 85 people survived in class 3.\n",
    "\n",
    "#print the number of people who did not survive in each class\n",
    "print(len(titanic_df_passenger_class_1[titanic_df_passenger_class_1[\"Survived\"]==0]),\n",
    "      len(titanic_df_passenger_class_2[titanic_df_passenger_class_2[\"Survived\"]==0]),\n",
    "      len(titanic_df_passenger_class_3[titanic_df_passenger_class_3[\"Survived\"]==0])\n",
    "     )\n",
    "#64 people did not survive in class 1. 90 people did not survive in class 2. 270 people did not survive in class 3."
   ]
  },
  {
   "cell_type": "code",
   "execution_count": 110,
   "id": "d3a2db57",
   "metadata": {},
   "outputs": [],
   "source": [
    "#Q5\n",
    "\n",
    "import math\n",
    "\n",
    "#variance function\n",
    "def variance(x):\n",
    "    number_obs = len(x) #the number of population\n",
    "    mean = statistics.mean(x) #the mean of the observations\n",
    "    var = sum((xi - mean)**2 for xi in x)/len(x)\n",
    "    return var\n",
    "    \n",
    "#function of standard deviation\n",
    "def std_dev(x):\n",
    "    std = math.sqrt(variance(x))\n",
    "    return std\n",
    "\n",
    "#function of correlation\n",
    "def correlation(x,y):\n",
    "    x_basket = []\n",
    "    y_basket = []\n",
    "    top = []\n",
    "    bottom_x = []\n",
    "    bottom_y = []\n",
    "    \n",
    "    x_mean = x.mean()\n",
    "    y_mean = y.mean()\n",
    "    for xi in x:\n",
    "        x_basket.append(xi - x_mean)\n",
    "    for yi in y:\n",
    "        y_basket.append(yi - y_mean)\n",
    "    for i in range(len(x_basket)):\n",
    "        top.append(x_basket[i] * y_basket[i])\n",
    "        bottom_x.append((x_basket[i])**2)\n",
    "        bottom_y.append((y_basket[i])**2)\n",
    "   \n",
    "    molecular = sum(top)\n",
    "    bx = sum(bottom_x)\n",
    "    by = sum(bottom_y)\n",
    "    denominator = math.sqrt(bx*by)\n",
    "    corr = molecular/denominator\n",
    "    return corr\n",
    "\n"
   ]
  },
  {
   "cell_type": "code",
   "execution_count": 111,
   "id": "73f49a72",
   "metadata": {},
   "outputs": [
    {
     "name": "stdout",
     "output_type": "stream",
     "text": [
      "          Survived       Age     SibSp     Parch      Fare  NotAlone\n",
      "Survived  1.000000 -0.077221 -0.017358  0.093317  0.268189  0.196140\n",
      "Age      -0.077221  1.000000 -0.308247 -0.189119  0.096067 -0.198270\n",
      "SibSp    -0.017358 -0.308247  1.000000  0.383820  0.138329  0.629818\n",
      "Parch     0.093317 -0.189119  0.383820  1.000000  0.205119  0.577524\n",
      "Fare      0.268189  0.096067  0.138329  0.205119  1.000000  0.260136\n",
      "NotAlone  0.196140 -0.198270  0.629818  0.577524  0.260136  1.000000\n",
      "\n",
      "\n",
      "-0.07722109457217737 \n",
      " -0.01735836047953392 \n",
      " 0.09331700774224345 \n",
      " 0.2681886168744772 \n",
      " 0.19614042733716913 \n",
      " -0.3082467589236574 \n",
      " -0.18911926263203518 \n",
      " 0.09606669176903881 \n",
      " -0.19827000378179802 \n",
      " 0.3838198640428351 \n",
      " 0.13832879455544905 \n",
      " 0.6298182440322461 \n",
      " 0.20511888430378045 \n",
      " 0.5775244139668505 \n",
      " 0.2601363564406405\n"
     ]
    }
   ],
   "source": [
    "#Q6\n",
    "matix_df = pd.DataFrame(titanic_df,columns=[\"Survived\",\"Age\", \"SibSp\", \"Parch\", \"Fare\", \"NotAlone\"]) #make a subset\n",
    "corrMatrix = matix_df.corr() #make corr matrix\n",
    "print (corrMatrix) #print corr matrix\n",
    "print('\\n')\n",
    "\n",
    "print(\n",
    "correlation(titanic_df[\"Survived\"],titanic_df[\"Age\"]),'\\n', #Survived and Age have a very weak negative correlation\n",
    "correlation(titanic_df[\"Survived\"],titanic_df[\"SibSp\"]),'\\n', #Survived and SibSp have a very weak negative correlation\n",
    "correlation(titanic_df[\"Survived\"],titanic_df[\"Parch\"]),'\\n', #Survived and Parch have a very weak positive correlation\n",
    "correlation(titanic_df[\"Survived\"],titanic_df[\"Fare\"]),'\\n', #Survived and Fare have a weak positive correlation\n",
    "correlation(titanic_df[\"Survived\"],titanic_df[\"NotAlone\"]),'\\n', #Survived and NotAlone have a weak positive correlation\n",
    "correlation(titanic_df[\"SibSp\"],titanic_df[\"Age\"]),'\\n', #Age and SibSp have a weak negative correlation\n",
    "correlation(titanic_df[\"Parch\"],titanic_df[\"Age\"]),'\\n', #Age and Parch have a weak negative correlation\n",
    "correlation(titanic_df[\"Fare\"],titanic_df[\"Age\"]),'\\n', #Age and Fare have a very weak positive correlation\n",
    "correlation(titanic_df[\"NotAlone\"],titanic_df[\"Age\"]),'\\n', #Age and NotAlone have a weak negative correlation\n",
    "correlation(titanic_df[\"SibSp\"],titanic_df[\"Parch\"]),'\\n', #SibSp and Parch have a weak positive correlation\n",
    "correlation(titanic_df[\"SibSp\"],titanic_df[\"Fare\"]),'\\n', #SibSp and Fare have a weak positive correlation\n",
    "correlation(titanic_df[\"SibSp\"],titanic_df[\"NotAlone\"]),'\\n', #SibSp and NotAlone have a medium positive correlation\n",
    "correlation(titanic_df[\"Parch\"],titanic_df[\"Fare\"]),'\\n', #Parch and Fare have a weak positive correlation\n",
    "correlation(titanic_df[\"Parch\"],titanic_df[\"NotAlone\"]),'\\n', #Parch and NotAlone have a weak positive correlation\n",
    "correlation(titanic_df[\"Fare\"],titanic_df[\"NotAlone\"]) #Fare and NotAlone have a weak positive correlation\n",
    "     )\n",
    "#SibSp and NotAlone are relatively close related comparing to other variables because their correlation is the highest among all correlations.\n",
    "#Correlations between all numerical values are below 0.6, which means that they all have weak correlations, except the correlation between SibSp and NotAlone.\n",
    "#The correlation between Parch and NotAlone is about 0.5775, which is very close to 0.6. It's the second highest correlation.\n",
    "#There are no strongly correlated values because none of the correlations exceeds 0.8."
   ]
  },
  {
   "cell_type": "code",
   "execution_count": 112,
   "id": "0529ae14",
   "metadata": {},
   "outputs": [
    {
     "name": "stdout",
     "output_type": "stream",
     "text": [
      "14.526497332334044\n",
      "52.9189295025436\n",
      "17.875\n",
      "25.325\n"
     ]
    },
    {
     "data": {
      "image/png": "[encoded data removed]",
      "text/plain": [
       "<Figure size 432x288 with 1 Axes>"
      ]
     },
     "metadata": {
      "needs_background": "light"
     },
     "output_type": "display_data"
    }
   ],
   "source": [
    "#Q7\n",
    "\n",
    "import matplotlib.pyplot as plt\n",
    "\n",
    "#Calculate the standard deviation for Age \n",
    "age_std = titanic_df[\"Age\"].std()\n",
    "print(age_std)\n",
    "#The standard deviation for Age is 14.5265\n",
    "\n",
    "#Calculate the standard deviation for Fare\n",
    "fare_std = titanic_df[\"Fare\"].std()\n",
    "print(fare_std)\n",
    "#The standard deviation for Fare is 52.9189\n",
    "\n",
    "#Calculate the interquartile range for the Age \n",
    "age_q3, age_q1 = np.percentile(titanic_df['Age'], [75 ,25])\n",
    "iqr_age = age_q3 - age_q1\n",
    "print(iqr_age)\n",
    "\n",
    "#Calculate the interquartile range for the Fare \n",
    "fare_q3, fare_q1 = np.percentile(titanic_df[\"Fare\"],[75,25])\n",
    "iqr_fare = fare_q3 - fare_q1\n",
    "print(iqr_fare)\n",
    "#The interquartile range for the Age is 17.875, and the interquartile range for the Fare is 25.325.\n",
    "\n",
    "\n",
    "plt.boxplot(titanic_df[\"Age\"], showmeans = True)\n",
    "plt.title(\"Age Box Plot\", fontsize = 20)\n",
    "plt.show()\n",
    "#From the box plot of Age, we can see that the data is right-skewed, and the majority of the observations is below the mean."
   ]
  },
  {
   "cell_type": "code",
   "execution_count": 113,
   "id": "b8742123",
   "metadata": {},
   "outputs": [
    {
     "data": {
      "image/png": "[encoded data removed]",
      "text/plain": [
       "<Figure size 432x288 with 1 Axes>"
      ]
     },
     "metadata": {
      "needs_background": "light"
     },
     "output_type": "display_data"
    }
   ],
   "source": [
    "plt.boxplot(titanic_df[\"Fare\"], showmeans = True)\n",
    "plt.title(\"Fare Box Plot\", fontsize = 20)\n",
    "plt.show()\n",
    "#From the box plot of Fare, we can see that the data is right-skewed, and the majority of the observations is below the mean."
   ]
  },
  {
   "cell_type": "code",
   "execution_count": 114,
   "id": "ab5d64a7",
   "metadata": {},
   "outputs": [
    {
     "name": "stdout",
     "output_type": "stream",
     "text": [
      "0.9647058823529412\n",
      "0.918918918918919\n",
      "0.46078431372549017\n",
      "0.39603960396039606\n",
      "0.15151515151515152\n",
      "0.15019762845849802\n"
     ]
    }
   ],
   "source": [
    "#Q8\n",
    "\n",
    "#8.1\n",
    "\n",
    "# P(Survived = true | Gender = female, Class = 1)\n",
    "P_f1 = len(titanic_df.loc[(titanic_df[\"Sex\"]==\"female\") & (titanic_df[\"Pclass\"]==1)]) \n",
    "P_s1 = len(titanic_df.loc[(titanic_df[\"Sex\"]==\"female\") & (titanic_df[\"Pclass\"]==1) & (titanic_df[\"Survived\"]==1)]) \n",
    "print(P_s1/P_f1)\n",
    "\n",
    "# P(Survived = true | Gender = female, Class = 2)\n",
    "P_f2 = len(titanic_df.loc[(titanic_df[\"Sex\"]==\"female\") & (titanic_df[\"Pclass\"]==2)]) \n",
    "P_s2 = len(titanic_df.loc[(titanic_df[\"Sex\"]==\"female\") & (titanic_df[\"Pclass\"]==2) & (titanic_df[\"Survived\"]==1)]) \n",
    "print(P_s2/P_f2)\n",
    "\n",
    "# P(Survived = true | Gender = female, Class = 3)\n",
    "P_f3 = len(titanic_df.loc[(titanic_df[\"Sex\"]==\"female\") & (titanic_df[\"Pclass\"]==3)]) \n",
    "P_s3 = len(titanic_df.loc[(titanic_df[\"Sex\"]==\"female\") & (titanic_df[\"Pclass\"]==3) & (titanic_df[\"Survived\"]==1)]) \n",
    "print(P_s3/P_f3)\n",
    "\n",
    "# P(Survived = true | Gender = male, Class = 1)\n",
    "P_m1 = len(titanic_df.loc[(titanic_df[\"Sex\"]==\"male\") & (titanic_df[\"Pclass\"]==1)]) \n",
    "P_s_male_1 = len(titanic_df.loc[(titanic_df[\"Sex\"]==\"male\") & (titanic_df[\"Pclass\"]==1) & (titanic_df[\"Survived\"]==1)]) \n",
    "print(P_s_male_1/P_m1)\n",
    "\n",
    "# P(Survived = true | Gender = male, Class = 2)\n",
    "P_m2 = len(titanic_df.loc[(titanic_df[\"Sex\"]==\"male\") & (titanic_df[\"Pclass\"]==2)]) \n",
    "P_s_male_2 = len(titanic_df.loc[(titanic_df[\"Sex\"]==\"male\") & (titanic_df[\"Pclass\"]==2) & (titanic_df[\"Survived\"]==1)]) \n",
    "print(P_s_male_2/P_m2)\n",
    "\n",
    "# P(Survived = true | Gender = male, Class = 3)\n",
    "P_m3 = len(titanic_df.loc[(titanic_df[\"Sex\"]==\"male\") & (titanic_df[\"Pclass\"]==3)]) \n",
    "P_s_male_3 = len(titanic_df.loc[(titanic_df[\"Sex\"]==\"male\") & (titanic_df[\"Pclass\"]==3) & (titanic_df[\"Survived\"]==1)]) \n",
    "print(P_s_male_3/P_m3)\n",
    "\n",
    "# Females in class 1 survived the most. Almost all females in class 1 survived. Males in class 3 survived the least.Only about 15% males in class 3 survived.\n",
    "# Overall, females survived more in percentage than males did. Even females in class 3, which is the class with the lowest survival rate, had \n",
    "# higher survival rate than that of the males in the first class. For both males and females, people in class 1 survived the most, and people in \n",
    "# class 3 survived the least. "
   ]
  },
  {
   "cell_type": "code",
   "execution_count": 115,
   "id": "822d4882",
   "metadata": {},
   "outputs": [
    {
     "name": "stdout",
     "output_type": "stream",
     "text": [
      "0.4318181818181818\n"
     ]
    }
   ],
   "source": [
    "#8.2\n",
    "\n",
    "# count the number of children in class 3 whose age is less or equal to 10 \n",
    "P_Children_in_class3 = len(titanic_df.loc[(titanic_df[\"Pclass\"]==3) & (titanic_df[\"Age\"] <= 10)]) \n",
    "\n",
    "# count the number of children survived in class 3 whose age is less or equal to 10 \n",
    "P_Children_in_class3_survived = len(titanic_df.loc[(titanic_df[\"Pclass\"]==3) & (titanic_df[\"Age\"] <= 10) & (titanic_df[\"Survived\"]==1)])\n",
    "\n",
    "# Culculate the possibility that a child who is in third class is 10 years old or younger survives \n",
    "print(P_Children_in_class3_survived / P_Children_in_class3)\n",
    "# The possibility that a child who is in third class is 10 years old or younger survives is 0.4318"
   ]
  },
  {
   "cell_type": "code",
   "execution_count": 116,
   "id": "86378e0b",
   "metadata": {},
   "outputs": [
    {
     "name": "stdout",
     "output_type": "stream",
     "text": [
      "87.96158225806447\n",
      "21.47155606936416\n",
      "13.229435211267623\n"
     ]
    }
   ],
   "source": [
    "#8.3\n",
    "# E[X | Class= 1]\n",
    "print(titanic_df_passenger_class_1[\"Fare\"].mean())\n",
    "\n",
    "# E[X | Class= 2]\n",
    "print(titanic_df_passenger_class_2[\"Fare\"].mean())\n",
    "\n",
    "# E[X | Class= 3]\n",
    "print(titanic_df_passenger_class_3[\"Fare\"].mean())\n",
    "#People in class 1 paid 87.96158225806447 on average to be on the ship. People in class 2 paid 21.47155606936416 on average to be on the ship. People in class 3 paid 13.229435211267623 on average to be on the ship.\n",
    "#People in a better class paid more on average to be on the ship. "
   ]
  },
  {
   "cell_type": "code",
   "execution_count": 117,
   "id": "13998239",
   "metadata": {},
   "outputs": [
    {
     "data": {
      "text/plain": [
       "{' Capt',\n",
       " ' Col',\n",
       " ' Don',\n",
       " ' Dr',\n",
       " ' Jonkheer',\n",
       " ' Lady',\n",
       " ' Major',\n",
       " ' Master',\n",
       " ' Miss',\n",
       " ' Mlle',\n",
       " ' Mme',\n",
       " ' Mr',\n",
       " ' Mrs',\n",
       " ' Ms',\n",
       " ' Rev',\n",
       " ' Sir',\n",
       " ' the Countess'}"
      ]
     },
     "execution_count": 117,
     "metadata": {},
     "output_type": "execute_result"
    }
   ],
   "source": [
    "#Q9\n",
    "\n",
    "#9.1\n",
    "#Find all titles of social status/nobility and provide a list of them\n",
    "title_list = []\n",
    "for index, row in titanic_df.iterrows(): #go through all rows\n",
    "    fname = row[\"Name\"].split(\",\")[1] #split the name and extract the part after \",\"\n",
    "    title = fname.split(\".\")[0] #split the part after \",\" and extract the title\n",
    "    title_list.append(title) #put the title into the empty list\n",
    "\n",
    "set(title_list) #create a list with titles without replication"
   ]
  },
  {
   "cell_type": "code",
   "execution_count": 118,
   "id": "a387378b",
   "metadata": {
    "scrolled": true
   },
   "outputs": [],
   "source": [
    "#9.2\n",
    "\n",
    "titanic_df[\"Title\"] = title_list \n",
    "#Survival rate for each title\n",
    "Capt = len(titanic_df.loc[(titanic_df[\"Title\"]==' Capt') & (titanic_df[\"Survived\"]==1)])/len(titanic_df.loc[(titanic_df[\"Title\"]==' Capt')])\n",
    "Col = len(titanic_df.loc[(titanic_df[\"Title\"]==' Col') & (titanic_df[\"Survived\"]==1)])/len(titanic_df.loc[(titanic_df[\"Title\"]==' Col')])\n",
    "Don = len(titanic_df.loc[(titanic_df[\"Title\"]==' Don') & (titanic_df[\"Survived\"]==1)])/len(titanic_df.loc[(titanic_df[\"Title\"]==' Don')])\n",
    "Dr = len(titanic_df.loc[(titanic_df[\"Title\"]==' Dr') & (titanic_df[\"Survived\"]==1)])/len(titanic_df.loc[(titanic_df[\"Title\"]==' Dr')])\n",
    "Jonkheer = len(titanic_df.loc[(titanic_df[\"Title\"]==' Jonkheer') & (titanic_df[\"Survived\"]==1)])/len(titanic_df.loc[(titanic_df[\"Title\"]==' Jonkheer')])\n",
    "Lady = len(titanic_df.loc[(titanic_df[\"Title\"]==' Lady') & (titanic_df[\"Survived\"]==1)])/len(titanic_df.loc[(titanic_df[\"Title\"]==' Lady')])\n",
    "Major = len(titanic_df.loc[(titanic_df[\"Title\"]==' Major') & (titanic_df[\"Survived\"]==1)])/len(titanic_df.loc[(titanic_df[\"Title\"]==' Major')])\n",
    "Master = len(titanic_df.loc[(titanic_df[\"Title\"]==' Master') & (titanic_df[\"Survived\"]==1)])/len(titanic_df.loc[(titanic_df[\"Title\"]==' Master')])\n",
    "Miss = len(titanic_df.loc[(titanic_df[\"Title\"]==' Miss') & (titanic_df[\"Survived\"]==1)])/len(titanic_df.loc[(titanic_df[\"Title\"]==' Miss')])\n",
    "Mlle = len(titanic_df.loc[(titanic_df[\"Title\"]==' Mlle') & (titanic_df[\"Survived\"]==1)])/len(titanic_df.loc[(titanic_df[\"Title\"]==' Mlle')])\n",
    "Mme = len(titanic_df.loc[(titanic_df[\"Title\"]==' Mme') & (titanic_df[\"Survived\"]==1)])/len(titanic_df.loc[(titanic_df[\"Title\"]==' Mme')])\n",
    "Mr = len(titanic_df.loc[(titanic_df[\"Title\"]==' Mr') & (titanic_df[\"Survived\"]==1)])/len(titanic_df.loc[(titanic_df[\"Title\"]==' Mr')])\n",
    "Mrs = len(titanic_df.loc[(titanic_df[\"Title\"]==' Mrs') & (titanic_df[\"Survived\"]==1)])/len(titanic_df.loc[(titanic_df[\"Title\"]==' Mrs')])\n",
    "Ms = len(titanic_df.loc[(titanic_df[\"Title\"]==' Ms') & (titanic_df[\"Survived\"]==1)])/len(titanic_df.loc[(titanic_df[\"Title\"]==' Ms')])\n",
    "Rev = len(titanic_df.loc[(titanic_df[\"Title\"]==' Rev') & (titanic_df[\"Survived\"]==1)])/len(titanic_df.loc[(titanic_df[\"Title\"]==' Rev')])\n",
    "Sir = len(titanic_df.loc[(titanic_df[\"Title\"]==' Sir') & (titanic_df[\"Survived\"]==1)])/len(titanic_df.loc[(titanic_df[\"Title\"]==' Sir')])\n",
    "the_Countess = len(titanic_df.loc[(titanic_df[\"Title\"]==' the Countess') & (titanic_df[\"Survived\"]==1)])/len(titanic_df.loc[(titanic_df[\"Title\"]==' the Countess')])\n"
   ]
  },
  {
   "cell_type": "code",
   "execution_count": 119,
   "id": "67a4684b",
   "metadata": {},
   "outputs": [
    {
     "name": "stdout",
     "output_type": "stream",
     "text": [
      "The survival rate for Capt is  0.0\n",
      "The survival rate for Col is  0.5\n",
      "The survival rate for Don is  0.0\n",
      "The survival rate for Dr is  0.5\n",
      "The survival rate for Jonkheer is  0.0\n",
      "The survival rate for Lady is  1.0\n",
      "The survival rate for Major is  0.5\n",
      "The survival rate for Master is  0.5833333333333334\n",
      "The survival rate for Miss is  0.7191780821917808\n",
      "The survival rate for Mlle is  1.0\n",
      "The survival rate for Mr is  0.16834170854271358\n",
      "The survival rate for Mme is  1.0\n",
      "The survival rate for Mrs is  0.7870370370370371\n",
      "The survival rate for Ms is  1.0\n",
      "The survival rate for Rev is  0.0\n",
      "The survival rate for Sir is  1.0\n",
      "The survival rate for the Countess is  1.0\n",
      "The highest survival rate is 1.0, which means all passengers who have the title survived. The lowest survival rate is 0.0, which means all passengers who have the title died. 4 titles have 0 survival rate, 3 titles have 0.5 survival rate, and 6 titles have 1 survival rate. Females have higher survival rate. For example, all Lady, Mlle, Mme, Ms, and the Countess survived. Also, Miss and Mrs have survival rate higher than 0.7. On the other hand, most males have survival rate equal or lower than 0.5. It seems that the passengers on the Titanic followed the 'women first'.\n"
     ]
    }
   ],
   "source": [
    "#9.3\n",
    "\n",
    "#Report the results and the observation\n",
    "print(\"The survival rate for Capt is \",Capt)\n",
    "print(\"The survival rate for Col is \",Col)\n",
    "print(\"The survival rate for Don is \",Don)\n",
    "print(\"The survival rate for Dr is \",Dr)\n",
    "print(\"The survival rate for Jonkheer is \",Jonkheer)\n",
    "print(\"The survival rate for Lady is \",Lady)\n",
    "print(\"The survival rate for Major is \",Major)\n",
    "print(\"The survival rate for Master is \",Master)\n",
    "print(\"The survival rate for Miss is \",Miss)\n",
    "print(\"The survival rate for Mlle is \",Mlle)\n",
    "print(\"The survival rate for Mr is \",Mr)\n",
    "print(\"The survival rate for Mme is \",Mme)\n",
    "print(\"The survival rate for Mrs is \",Mrs)\n",
    "print(\"The survival rate for Ms is \",Ms)\n",
    "print(\"The survival rate for Rev is \",Rev)\n",
    "print(\"The survival rate for Sir is \",Sir)\n",
    "print(\"The survival rate for the Countess is \",the_Countess)\n",
    "print(\"The highest survival rate is 1.0, which means all passengers who have the title survived. The lowest survival rate is 0.0, which means all passengers who have the title died. 4 titles have 0 survival rate, 3 titles have 0.5 survival rate, and 6 titles have 1 survival rate. Females have higher survival rate. For example, all Lady, Mlle, Mme, Ms, and the Countess survived. Also, Miss and Mrs have survival rate higher than 0.7. On the other hand, most males have survival rate equal or lower than 0.5. It seems that the passengers on the Titanic followed the 'women first'.\")"
   ]
  },
  {
   "cell_type": "code",
   "execution_count": 120,
   "id": "6250c50f",
   "metadata": {},
   "outputs": [
    {
     "data": {
      "image/png": "[encoded data removed]",
      "text/plain": [
       "<Figure size 432x288 with 1 Axes>"
      ]
     },
     "metadata": {
      "needs_background": "light"
     },
     "output_type": "display_data"
    }
   ],
   "source": [
    "#Q10\n",
    "\n",
    "#10.1\n",
    "\n",
    "import matplotlib.pyplot as plt\n",
    "bar_graph1 = plt.figure()\n",
    "ax = bar_graph1.add_axes([0,0,1,1])\n",
    "survived = ['Survived','Died']\n",
    "passengers = [len(titanic_df.loc[titanic_df['Survived']==1]) , len(titanic_df.loc[titanic_df['Survived']==0])]\n",
    "ax.bar(survived,passengers)\n",
    "plt.xlabel('Survival Condition', fontsize = 16) \n",
    "plt.ylabel('The Number of Passenger', fontsize = 16) \n",
    "  \n",
    "# displaying the title\n",
    "plt.title(\"Bar Graph About The Number of Survivals\")\n",
    "plt.show()"
   ]
  },
  {
   "cell_type": "code",
   "execution_count": 121,
   "id": "a072a81d",
   "metadata": {},
   "outputs": [
    {
     "data": {
      "text/plain": [
       "Text(0.5, 1.0, 'Heatmap About the Correlations Between the Numerical Variables ')"
      ]
     },
     "execution_count": 121,
     "metadata": {},
     "output_type": "execute_result"
    },
    {
     "data": {
      "image/png": "[encoded data removed]",
      "text/plain": [
       "<Figure size 432x288 with 2 Axes>"
      ]
     },
     "metadata": {
      "needs_background": "light"
     },
     "output_type": "display_data"
    }
   ],
   "source": [
    "#10.2\n",
    "import seaborn as sns\n",
    "sns.heatmap(corrMatrix, cmap=\"RdBu_r\")\n",
    "plt.title(\"Heatmap About the Correlations Between the Numerical Variables \")"
   ]
  },
  {
   "cell_type": "code",
   "execution_count": 122,
   "id": "3683e8f6",
   "metadata": {},
   "outputs": [
    {
     "name": "stdout",
     "output_type": "stream",
     "text": [
      "According to Q9, Lady, Mlle, Mme, Ms, Sir, and the Countess all have survival rates 1.0, which are equally high. Thus, there are 6 highest survival rate.\n"
     ]
    },
    {
     "data": {
      "image/png": "[encoded data removed]",
      "text/plain": [
       "<Figure size 432x288 with 1 Axes>"
      ]
     },
     "metadata": {
      "needs_background": "light"
     },
     "output_type": "display_data"
    }
   ],
   "source": [
    "#10.3\n",
    "\n",
    "#I drew two bar plots. The first one is the top 5 titles with the highest survival rate, and the second one is the top 5 titles with the most survivals.\n",
    "# The bar graph showing the top 5 titles who have the highest survival rate \n",
    "print(\"According to Q9, Lady, Mlle, Mme, Ms, Sir, and the Countess all have survival rates 1.0, which are equally high. Thus, there are 6 highest survival rate.\")\n",
    "labels = ['Lady', 'Mlle', 'Mme', 'Ms', 'Sir', 'the Countess'] #Label the TOP 6 TITLES \n",
    "rate = [1,1,1,1,1,1] #survival rate of each title \n",
    "plt.bar(labels,rate) #draw the bar plot\n",
    "plt.xlabel('Title', fontsize = 16) \n",
    "plt.ylabel('Survival Rate', fontsize = 16) \n",
    "plt.title(\"The Survival Rate of the Top 5 Title Who Survived the Most\")\n",
    "plt.show()"
   ]
  },
  {
   "cell_type": "code",
   "execution_count": 123,
   "id": "a2d4e078",
   "metadata": {},
   "outputs": [
    {
     "name": "stdout",
     "output_type": "stream",
     "text": [
      "0 1 0 3 0 1 1 21 105 2 1 67 85 1 0 1 1\n",
      "The top 5 titles who have the most survivals are Dr, Master, Miss, Mr, and Mrs\n"
     ]
    },
    {
     "data": {
      "image/png": "[encoded data removed]",
      "text/plain": [
       "<Figure size 432x288 with 1 Axes>"
      ]
     },
     "metadata": {
      "needs_background": "light"
     },
     "output_type": "display_data"
    }
   ],
   "source": [
    "# The bar graph showing the top 5 titles who have the most survivals \n",
    "\n",
    "#Count the number of survivals for each title\n",
    "Capt_number = len(titanic_df.loc[(titanic_df[\"Title\"]==' Capt') & (titanic_df[\"Survived\"]==1)])\n",
    "Col_number = len(titanic_df.loc[(titanic_df[\"Title\"]==' Col') & (titanic_df[\"Survived\"]==1)])\n",
    "Don_number = len(titanic_df.loc[(titanic_df[\"Title\"]==' Don') & (titanic_df[\"Survived\"]==1)])\n",
    "Dr_number = len(titanic_df.loc[(titanic_df[\"Title\"]==' Dr') & (titanic_df[\"Survived\"]==1)])\n",
    "Jonkheer_number = len(titanic_df.loc[(titanic_df[\"Title\"]==' Jonkheer') & (titanic_df[\"Survived\"]==1)])\n",
    "Lady_number = len(titanic_df.loc[(titanic_df[\"Title\"]==' Lady') & (titanic_df[\"Survived\"]==1)])\n",
    "Major_number = len(titanic_df.loc[(titanic_df[\"Title\"]==' Major') & (titanic_df[\"Survived\"]==1)])\n",
    "Master_number = len(titanic_df.loc[(titanic_df[\"Title\"]==' Master') & (titanic_df[\"Survived\"]==1)])\n",
    "Miss_number = len(titanic_df.loc[(titanic_df[\"Title\"]==' Miss') & (titanic_df[\"Survived\"]==1)])\n",
    "Mlle_number = len(titanic_df.loc[(titanic_df[\"Title\"]==' Mlle') & (titanic_df[\"Survived\"]==1)])\n",
    "Mme_number = len(titanic_df.loc[(titanic_df[\"Title\"]==' Mme') & (titanic_df[\"Survived\"]==1)])\n",
    "Mr_number = len(titanic_df.loc[(titanic_df[\"Title\"]==' Mr') & (titanic_df[\"Survived\"]==1)])\n",
    "Mrs_number = len(titanic_df.loc[(titanic_df[\"Title\"]==' Mrs') & (titanic_df[\"Survived\"]==1)])\n",
    "Ms_number = len(titanic_df.loc[(titanic_df[\"Title\"]==' Ms') & (titanic_df[\"Survived\"]==1)])\n",
    "Rev_number = len(titanic_df.loc[(titanic_df[\"Title\"]==' Rev') & (titanic_df[\"Survived\"]==1)])\n",
    "Sir_number = len(titanic_df.loc[(titanic_df[\"Title\"]==' Sir') & (titanic_df[\"Survived\"]==1)])\n",
    "the_Countess_number = len(titanic_df.loc[(titanic_df[\"Title\"]==' the Countess') & (titanic_df[\"Survived\"]==1)])\n",
    "\n",
    "print(Capt_number,\n",
    "Col_number,\n",
    "Don_number,\n",
    "Dr_number,\n",
    "Jonkheer_number,\n",
    "Lady_number,\n",
    "Major_number,\n",
    "Master_number,\n",
    "Miss_number,\n",
    "Mlle_number,\n",
    "Mme_number,\n",
    "Mr_number,\n",
    "Mrs_number,\n",
    "Ms_number,\n",
    "Rev_number,\n",
    "Sir_number,\n",
    "the_Countess_number)\n",
    "\n",
    "print(\"The top 5 titles who have the most survivals are Dr, Master, Miss, Mr, and Mrs\")\n",
    "labels2 = ['Dr', 'Master', 'Miss', 'Mr', 'Mrs'] #Label the TOP 5 TITLES \n",
    "rate2 = [Dr, Master, Miss, Mr, Mrs] #survival rate of each title \n",
    "plt.bar(labels2, rate2) #draw the bar plot\n",
    "plt.xlabel('Title', fontsize = 16) \n",
    "plt.ylabel('Survival Rate', fontsize = 16) \n",
    "plt.title(\"The Survival Rate of the Top 5 Title Who Survived the Most\")\n",
    "plt.show()"
   ]
  },
  {
   "cell_type": "code",
   "execution_count": 124,
   "id": "4d5a18d8",
   "metadata": {},
   "outputs": [
    {
     "data": {
      "text/plain": [
       "<matplotlib.legend.Legend at 0x1c6a7433400>"
      ]
     },
     "execution_count": 124,
     "metadata": {},
     "output_type": "execute_result"
    },
    {
     "data": {
      "image/png": "[encoded data removed]",
      "text/plain": [
       "<Figure size 432x288 with 1 Axes>"
      ]
     },
     "metadata": {
      "needs_background": "light"
     },
     "output_type": "display_data"
    }
   ],
   "source": [
    "#10.4\n",
    "\n",
    "plt.hist(titanic_df[\"Fare\"], label = \"Total Number of Passengers with the Fare\")\n",
    "plt.hist(titanic_df_survived[\"Fare\"], label = \"Survived\")\n",
    "plt.hist(titanic_df_not_survived[\"Fare\"], label = \"Not Survived\")\n",
    "plt.title(\"Relationship Between Ticket Fare and Survival Count\")\n",
    "plt.legend(loc=\"upper right\")"
   ]
  },
  {
   "cell_type": "code",
   "execution_count": null,
   "id": "c553158c",
   "metadata": {},
   "outputs": [],
   "source": []
  }
 ],
 "metadata": {
  "kernelspec": {
   "display_name": "Python 3",
   "language": "python",
   "name": "python3"
  },
  "language_info": {
   "codemirror_mode": {
    "name": "ipython",
    "version": 3
   },
   "file_extension": ".py",
   "mimetype": "text/x-python",
   "name": "python",
   "nbconvert_exporter": "python",
   "pygments_lexer": "ipython3",
   "version": "3.8.8"
  }
 },
 "nbformat": 4,
 "nbformat_minor": 5
}
